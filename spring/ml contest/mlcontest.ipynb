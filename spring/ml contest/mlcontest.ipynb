{
 "cells": [
  {
   "cell_type": "code",
   "execution_count": 1,
   "id": "675db3bf",
   "metadata": {
    "_cell_guid": "b1076dfc-b9ad-4769-8c92-a6c4dae69d19",
    "_uuid": "8f2839f25d086af736a60e9eeb907d3b93b6e0e5",
    "execution": {
     "iopub.execute_input": "2023-05-26T17:39:26.309132Z",
     "iopub.status.busy": "2023-05-26T17:39:26.308254Z",
     "iopub.status.idle": "2023-05-26T17:39:26.325984Z",
     "shell.execute_reply": "2023-05-26T17:39:26.324194Z"
    },
    "papermill": {
     "duration": 0.03036,
     "end_time": "2023-05-26T17:39:26.328292",
     "exception": false,
     "start_time": "2023-05-26T17:39:26.297932",
     "status": "completed"
    },
    "tags": []
   },
   "outputs": [
    {
     "name": "stdout",
     "output_type": "stream",
     "text": [
      "/kaggle/input/cmc-ml-steam-activity-prediction/sample_submission.csv\n",
      "/kaggle/input/cmc-ml-steam-activity-prediction/users.csv\n",
      "/kaggle/input/cmc-ml-steam-activity-prediction/games_details.csv\n",
      "/kaggle/input/cmc-ml-steam-activity-prediction/users_friends.csv\n",
      "/kaggle/input/cmc-ml-steam-activity-prediction/simple_pipeline.ipynb\n",
      "/kaggle/input/cmc-ml-steam-activity-prediction/achievements_stats.csv\n",
      "/kaggle/input/cmc-ml-steam-activity-prediction/train.csv\n",
      "/kaggle/input/cmc-ml-steam-activity-prediction/test.csv\n"
     ]
    }
   ],
   "source": [
    "# This Python 3 environment comes with many helpful analytics libraries installed\n",
    "# It is defined by the kaggle/python Docker image: https://github.com/kaggle/docker-python\n",
    "# For example, here's several helpful packages to load\n",
    "\n",
    "import numpy as np # linear algebra\n",
    "import pandas as pd # data processing, CSV file I/O (e.g. pd.read_csv)\n",
    "\n",
    "# Input data files are available in the read-only \"../input/\" directory\n",
    "# For example, running this (by clicking run or pressing Shift+Enter) will list all files under the input directory\n",
    "\n",
    "import os\n",
    "for dirname, _, filenames in os.walk('/kaggle/input'):\n",
    "    for filename in filenames:\n",
    "        print(os.path.join(dirname, filename))\n",
    "\n",
    "# You can write up to 20GB to the current directory (/kaggle/working/) that gets preserved as output when you create a version using \"Save & Run All\" \n",
    "# You can also write temporary files to /kaggle/temp/, but they won't be saved outside of the current session"
   ]
  },
  {
   "cell_type": "code",
   "execution_count": 2,
   "id": "bc8c58fa",
   "metadata": {
    "execution": {
     "iopub.execute_input": "2023-05-26T17:39:26.347078Z",
     "iopub.status.busy": "2023-05-26T17:39:26.346277Z",
     "iopub.status.idle": "2023-05-26T17:39:28.154598Z",
     "shell.execute_reply": "2023-05-26T17:39:28.153558Z"
    },
    "papermill": {
     "duration": 1.820535,
     "end_time": "2023-05-26T17:39:28.157135",
     "exception": false,
     "start_time": "2023-05-26T17:39:26.336600",
     "status": "completed"
    },
    "tags": []
   },
   "outputs": [
    {
     "name": "stderr",
     "output_type": "stream",
     "text": [
      "/opt/conda/lib/python3.10/site-packages/scipy/__init__.py:146: UserWarning: A NumPy version >=1.16.5 and <1.23.0 is required for this version of SciPy (detected version 1.23.5\n",
      "  warnings.warn(f\"A NumPy version >={np_minversion} and <{np_maxversion}\"\n"
     ]
    },
    {
     "data": {
      "text/html": [
       "<div>\n",
       "<style scoped>\n",
       "    .dataframe tbody tr th:only-of-type {\n",
       "        vertical-align: middle;\n",
       "    }\n",
       "\n",
       "    .dataframe tbody tr th {\n",
       "        vertical-align: top;\n",
       "    }\n",
       "\n",
       "    .dataframe thead th {\n",
       "        text-align: right;\n",
       "    }\n",
       "</style>\n",
       "<table border=\"1\" class=\"dataframe\">\n",
       "  <thead>\n",
       "    <tr style=\"text-align: right;\">\n",
       "      <th></th>\n",
       "      <th>user_id</th>\n",
       "      <th>game_id</th>\n",
       "      <th>game_name</th>\n",
       "      <th>playtime_forever</th>\n",
       "      <th>playtime_2weeks</th>\n",
       "    </tr>\n",
       "  </thead>\n",
       "  <tbody>\n",
       "    <tr>\n",
       "      <th>0</th>\n",
       "      <td>4RPRA2QQRR</td>\n",
       "      <td>971680</td>\n",
       "      <td>Montaro : RE</td>\n",
       "      <td>57</td>\n",
       "      <td>0</td>\n",
       "    </tr>\n",
       "    <tr>\n",
       "      <th>1</th>\n",
       "      <td>KPCXI0AMMF</td>\n",
       "      <td>527760</td>\n",
       "      <td>Just Hero</td>\n",
       "      <td>210</td>\n",
       "      <td>0</td>\n",
       "    </tr>\n",
       "    <tr>\n",
       "      <th>2</th>\n",
       "      <td>VJU71I4Z4D</td>\n",
       "      <td>361280</td>\n",
       "      <td>Turmoil</td>\n",
       "      <td>861</td>\n",
       "      <td>0</td>\n",
       "    </tr>\n",
       "    <tr>\n",
       "      <th>3</th>\n",
       "      <td>TDQ0HDZ78A</td>\n",
       "      <td>578080</td>\n",
       "      <td>PUBG: BATTLEGROUNDS</td>\n",
       "      <td>16774</td>\n",
       "      <td>0</td>\n",
       "    </tr>\n",
       "    <tr>\n",
       "      <th>4</th>\n",
       "      <td>31D0FURI91</td>\n",
       "      <td>311080</td>\n",
       "      <td>Echelon</td>\n",
       "      <td>198</td>\n",
       "      <td>0</td>\n",
       "    </tr>\n",
       "  </tbody>\n",
       "</table>\n",
       "</div>"
      ],
      "text/plain": [
       "      user_id  game_id            game_name  playtime_forever  playtime_2weeks\n",
       "0  4RPRA2QQRR   971680         Montaro : RE                57                0\n",
       "1  KPCXI0AMMF   527760            Just Hero               210                0\n",
       "2  VJU71I4Z4D   361280              Turmoil               861                0\n",
       "3  TDQ0HDZ78A   578080  PUBG: BATTLEGROUNDS             16774                0\n",
       "4  31D0FURI91   311080              Echelon               198                0"
      ]
     },
     "execution_count": 2,
     "metadata": {},
     "output_type": "execute_result"
    }
   ],
   "source": [
    "# Используйте эти пути для запуска ноутбука на Kaggle\n",
    "from sklearn.metrics import mean_squared_log_error\n",
    "\n",
    "PATH_TO_KAGGLE_TRAIN = \"/kaggle/input/cmc-ml-steam-activity-prediction/train.csv\"\n",
    "PATH_TO_KAGGLE_TEST = \"/kaggle/input/cmc-ml-steam-activity-prediction/test.csv\"\n",
    "PATH_TO_KAGGLE_SUBMISSION = \"/kaggle/working/submission.csv\"\n",
    "\n",
    "# Если запускаете на своем компьютере, то впишите актуальные пути\n",
    "# PATH_TO_TRAIN = # Your Path\n",
    "# PATH_TO_TEST = # Your Path\n",
    "# PATH_TO_SUBMISSION = # Your Path\n",
    "\n",
    "train = pd.read_csv(PATH_TO_KAGGLE_TRAIN)\n",
    "test = pd.read_csv(PATH_TO_KAGGLE_TEST)\n",
    "\n",
    "data_train = pd.read_csv(PATH_TO_KAGGLE_TRAIN).drop(['index'], axis=1)\n",
    "\n",
    "data_train.head()"
   ]
  },
  {
   "cell_type": "code",
   "execution_count": 3,
   "id": "063ae5fa",
   "metadata": {
    "execution": {
     "iopub.execute_input": "2023-05-26T17:39:28.175361Z",
     "iopub.status.busy": "2023-05-26T17:39:28.174942Z",
     "iopub.status.idle": "2023-05-26T17:39:28.279844Z",
     "shell.execute_reply": "2023-05-26T17:39:28.278763Z"
    },
    "papermill": {
     "duration": 0.117108,
     "end_time": "2023-05-26T17:39:28.282637",
     "exception": false,
     "start_time": "2023-05-26T17:39:28.165529",
     "status": "completed"
    },
    "tags": []
   },
   "outputs": [],
   "source": [
    "details = pd.read_csv(\"/kaggle/input/cmc-ml-steam-activity-prediction/games_details.csv\")\n",
    "users = pd.read_csv(\"/kaggle/input/cmc-ml-steam-activity-prediction/users.csv\")\n"
   ]
  },
  {
   "cell_type": "code",
   "execution_count": 4,
   "id": "9b79afc0",
   "metadata": {
    "execution": {
     "iopub.execute_input": "2023-05-26T17:39:28.300829Z",
     "iopub.status.busy": "2023-05-26T17:39:28.300428Z",
     "iopub.status.idle": "2023-05-26T17:39:28.446008Z",
     "shell.execute_reply": "2023-05-26T17:39:28.444840Z"
    },
    "papermill": {
     "duration": 0.157908,
     "end_time": "2023-05-26T17:39:28.448858",
     "exception": false,
     "start_time": "2023-05-26T17:39:28.290950",
     "status": "completed"
    },
    "tags": []
   },
   "outputs": [],
   "source": [
    "data_train = data_train.merge(details, on='game_id', how='left').merge(users, on='user_id', how='left')"
   ]
  },
  {
   "cell_type": "code",
   "execution_count": 5,
   "id": "5bb15e5c",
   "metadata": {
    "execution": {
     "iopub.execute_input": "2023-05-26T17:39:28.467400Z",
     "iopub.status.busy": "2023-05-26T17:39:28.467013Z",
     "iopub.status.idle": "2023-05-26T17:39:28.487634Z",
     "shell.execute_reply": "2023-05-26T17:39:28.486459Z"
    },
    "papermill": {
     "duration": 0.032705,
     "end_time": "2023-05-26T17:39:28.489991",
     "exception": false,
     "start_time": "2023-05-26T17:39:28.457286",
     "status": "completed"
    },
    "tags": []
   },
   "outputs": [
    {
     "data": {
      "text/html": [
       "<div>\n",
       "<style scoped>\n",
       "    .dataframe tbody tr th:only-of-type {\n",
       "        vertical-align: middle;\n",
       "    }\n",
       "\n",
       "    .dataframe tbody tr th {\n",
       "        vertical-align: top;\n",
       "    }\n",
       "\n",
       "    .dataframe thead th {\n",
       "        text-align: right;\n",
       "    }\n",
       "</style>\n",
       "<table border=\"1\" class=\"dataframe\">\n",
       "  <thead>\n",
       "    <tr style=\"text-align: right;\">\n",
       "      <th></th>\n",
       "      <th>user_id</th>\n",
       "      <th>game_id</th>\n",
       "      <th>game_name</th>\n",
       "      <th>playtime_forever</th>\n",
       "      <th>playtime_2weeks</th>\n",
       "      <th>Unnamed: 0_x</th>\n",
       "      <th>genres</th>\n",
       "      <th>tags</th>\n",
       "      <th>release_date</th>\n",
       "      <th>rating</th>\n",
       "      <th>Unnamed: 0_y</th>\n",
       "      <th>communityvisibilitystate</th>\n",
       "      <th>profilestate</th>\n",
       "      <th>personastate</th>\n",
       "      <th>timecreated</th>\n",
       "    </tr>\n",
       "  </thead>\n",
       "  <tbody>\n",
       "    <tr>\n",
       "      <th>0</th>\n",
       "      <td>4RPRA2QQRR</td>\n",
       "      <td>971680</td>\n",
       "      <td>Montaro : RE</td>\n",
       "      <td>57</td>\n",
       "      <td>0</td>\n",
       "      <td>1685.0</td>\n",
       "      <td>['Casual', 'Indie']</td>\n",
       "      <td>['Singleplayer', 'Steam Achievements', '2D']</td>\n",
       "      <td>2018-11-16</td>\n",
       "      <td>0.00</td>\n",
       "      <td>6432</td>\n",
       "      <td>3</td>\n",
       "      <td>1.0</td>\n",
       "      <td>0</td>\n",
       "      <td>2006-03-21 13:07:38</td>\n",
       "    </tr>\n",
       "    <tr>\n",
       "      <th>1</th>\n",
       "      <td>KPCXI0AMMF</td>\n",
       "      <td>527760</td>\n",
       "      <td>Just Hero</td>\n",
       "      <td>210</td>\n",
       "      <td>0</td>\n",
       "      <td>1492.0</td>\n",
       "      <td>['Casual', 'Indie']</td>\n",
       "      <td>['Singleplayer', 'Steam Achievements', 'Full c...</td>\n",
       "      <td>2016-09-28</td>\n",
       "      <td>0.00</td>\n",
       "      <td>654</td>\n",
       "      <td>3</td>\n",
       "      <td>1.0</td>\n",
       "      <td>1</td>\n",
       "      <td>2007-04-21 13:22:26</td>\n",
       "    </tr>\n",
       "    <tr>\n",
       "      <th>2</th>\n",
       "      <td>VJU71I4Z4D</td>\n",
       "      <td>361280</td>\n",
       "      <td>Turmoil</td>\n",
       "      <td>861</td>\n",
       "      <td>0</td>\n",
       "      <td>13321.0</td>\n",
       "      <td>['Strategy', 'Indie', 'Simulation']</td>\n",
       "      <td>['Singleplayer', 'Steam Achievements', 'Steam ...</td>\n",
       "      <td>2016-06-01</td>\n",
       "      <td>3.45</td>\n",
       "      <td>6719</td>\n",
       "      <td>3</td>\n",
       "      <td>1.0</td>\n",
       "      <td>0</td>\n",
       "      <td>2012-07-04 07:44:53</td>\n",
       "    </tr>\n",
       "    <tr>\n",
       "      <th>3</th>\n",
       "      <td>TDQ0HDZ78A</td>\n",
       "      <td>578080</td>\n",
       "      <td>PUBG: BATTLEGROUNDS</td>\n",
       "      <td>16774</td>\n",
       "      <td>0</td>\n",
       "      <td>11246.0</td>\n",
       "      <td>['Shooter', 'Massively Multiplayer', 'Action']</td>\n",
       "      <td>['Multiplayer', 'Co-op', 'Open World', 'cooper...</td>\n",
       "      <td>2017-12-20</td>\n",
       "      <td>3.29</td>\n",
       "      <td>7267</td>\n",
       "      <td>3</td>\n",
       "      <td>1.0</td>\n",
       "      <td>3</td>\n",
       "      <td>2009-03-27 12:31:13</td>\n",
       "    </tr>\n",
       "    <tr>\n",
       "      <th>4</th>\n",
       "      <td>31D0FURI91</td>\n",
       "      <td>311080</td>\n",
       "      <td>Echelon</td>\n",
       "      <td>198</td>\n",
       "      <td>0</td>\n",
       "      <td>1340.0</td>\n",
       "      <td>['Action', 'Simulation']</td>\n",
       "      <td>['Singleplayer', 'steam-trading-cards']</td>\n",
       "      <td>2001-03-21</td>\n",
       "      <td>3.50</td>\n",
       "      <td>2743</td>\n",
       "      <td>3</td>\n",
       "      <td>1.0</td>\n",
       "      <td>0</td>\n",
       "      <td>2014-02-02 07:17:29</td>\n",
       "    </tr>\n",
       "  </tbody>\n",
       "</table>\n",
       "</div>"
      ],
      "text/plain": [
       "      user_id  game_id            game_name  playtime_forever  \\\n",
       "0  4RPRA2QQRR   971680         Montaro : RE                57   \n",
       "1  KPCXI0AMMF   527760            Just Hero               210   \n",
       "2  VJU71I4Z4D   361280              Turmoil               861   \n",
       "3  TDQ0HDZ78A   578080  PUBG: BATTLEGROUNDS             16774   \n",
       "4  31D0FURI91   311080              Echelon               198   \n",
       "\n",
       "   playtime_2weeks  Unnamed: 0_x  \\\n",
       "0                0        1685.0   \n",
       "1                0        1492.0   \n",
       "2                0       13321.0   \n",
       "3                0       11246.0   \n",
       "4                0        1340.0   \n",
       "\n",
       "                                           genres  \\\n",
       "0                             ['Casual', 'Indie']   \n",
       "1                             ['Casual', 'Indie']   \n",
       "2             ['Strategy', 'Indie', 'Simulation']   \n",
       "3  ['Shooter', 'Massively Multiplayer', 'Action']   \n",
       "4                        ['Action', 'Simulation']   \n",
       "\n",
       "                                                tags release_date  rating  \\\n",
       "0       ['Singleplayer', 'Steam Achievements', '2D']   2018-11-16    0.00   \n",
       "1  ['Singleplayer', 'Steam Achievements', 'Full c...   2016-09-28    0.00   \n",
       "2  ['Singleplayer', 'Steam Achievements', 'Steam ...   2016-06-01    3.45   \n",
       "3  ['Multiplayer', 'Co-op', 'Open World', 'cooper...   2017-12-20    3.29   \n",
       "4            ['Singleplayer', 'steam-trading-cards']   2001-03-21    3.50   \n",
       "\n",
       "   Unnamed: 0_y  communityvisibilitystate  profilestate  personastate  \\\n",
       "0          6432                         3           1.0             0   \n",
       "1           654                         3           1.0             1   \n",
       "2          6719                         3           1.0             0   \n",
       "3          7267                         3           1.0             3   \n",
       "4          2743                         3           1.0             0   \n",
       "\n",
       "           timecreated  \n",
       "0  2006-03-21 13:07:38  \n",
       "1  2007-04-21 13:22:26  \n",
       "2  2012-07-04 07:44:53  \n",
       "3  2009-03-27 12:31:13  \n",
       "4  2014-02-02 07:17:29  "
      ]
     },
     "execution_count": 5,
     "metadata": {},
     "output_type": "execute_result"
    }
   ],
   "source": [
    "data_train.head()"
   ]
  },
  {
   "cell_type": "code",
   "execution_count": 6,
   "id": "51100cec",
   "metadata": {
    "execution": {
     "iopub.execute_input": "2023-05-26T17:39:28.509221Z",
     "iopub.status.busy": "2023-05-26T17:39:28.508479Z",
     "iopub.status.idle": "2023-05-26T17:39:28.517130Z",
     "shell.execute_reply": "2023-05-26T17:39:28.516015Z"
    },
    "papermill": {
     "duration": 0.020677,
     "end_time": "2023-05-26T17:39:28.519318",
     "exception": false,
     "start_time": "2023-05-26T17:39:28.498641",
     "status": "completed"
    },
    "tags": []
   },
   "outputs": [],
   "source": [
    "data_train.drop(['user_id', 'game_name', 'genres', 'tags', 'release_date', 'Unnamed: 0_x', 'Unnamed: 0_y', 'timecreated', 'game_id'], axis=1, inplace=True)"
   ]
  },
  {
   "cell_type": "code",
   "execution_count": 7,
   "id": "7a55af55",
   "metadata": {
    "execution": {
     "iopub.execute_input": "2023-05-26T17:39:28.538431Z",
     "iopub.status.busy": "2023-05-26T17:39:28.538061Z",
     "iopub.status.idle": "2023-05-26T17:39:28.554763Z",
     "shell.execute_reply": "2023-05-26T17:39:28.553778Z"
    },
    "papermill": {
     "duration": 0.028752,
     "end_time": "2023-05-26T17:39:28.556910",
     "exception": false,
     "start_time": "2023-05-26T17:39:28.528158",
     "status": "completed"
    },
    "tags": []
   },
   "outputs": [
    {
     "data": {
      "text/html": [
       "<div>\n",
       "<style scoped>\n",
       "    .dataframe tbody tr th:only-of-type {\n",
       "        vertical-align: middle;\n",
       "    }\n",
       "\n",
       "    .dataframe tbody tr th {\n",
       "        vertical-align: top;\n",
       "    }\n",
       "\n",
       "    .dataframe thead th {\n",
       "        text-align: right;\n",
       "    }\n",
       "</style>\n",
       "<table border=\"1\" class=\"dataframe\">\n",
       "  <thead>\n",
       "    <tr style=\"text-align: right;\">\n",
       "      <th></th>\n",
       "      <th>playtime_forever</th>\n",
       "      <th>playtime_2weeks</th>\n",
       "      <th>rating</th>\n",
       "      <th>communityvisibilitystate</th>\n",
       "      <th>profilestate</th>\n",
       "      <th>personastate</th>\n",
       "    </tr>\n",
       "  </thead>\n",
       "  <tbody>\n",
       "    <tr>\n",
       "      <th>0</th>\n",
       "      <td>57</td>\n",
       "      <td>0</td>\n",
       "      <td>0.00</td>\n",
       "      <td>3</td>\n",
       "      <td>1.0</td>\n",
       "      <td>0</td>\n",
       "    </tr>\n",
       "    <tr>\n",
       "      <th>1</th>\n",
       "      <td>210</td>\n",
       "      <td>0</td>\n",
       "      <td>0.00</td>\n",
       "      <td>3</td>\n",
       "      <td>1.0</td>\n",
       "      <td>1</td>\n",
       "    </tr>\n",
       "    <tr>\n",
       "      <th>2</th>\n",
       "      <td>861</td>\n",
       "      <td>0</td>\n",
       "      <td>3.45</td>\n",
       "      <td>3</td>\n",
       "      <td>1.0</td>\n",
       "      <td>0</td>\n",
       "    </tr>\n",
       "    <tr>\n",
       "      <th>3</th>\n",
       "      <td>16774</td>\n",
       "      <td>0</td>\n",
       "      <td>3.29</td>\n",
       "      <td>3</td>\n",
       "      <td>1.0</td>\n",
       "      <td>3</td>\n",
       "    </tr>\n",
       "    <tr>\n",
       "      <th>4</th>\n",
       "      <td>198</td>\n",
       "      <td>0</td>\n",
       "      <td>3.50</td>\n",
       "      <td>3</td>\n",
       "      <td>1.0</td>\n",
       "      <td>0</td>\n",
       "    </tr>\n",
       "    <tr>\n",
       "      <th>...</th>\n",
       "      <td>...</td>\n",
       "      <td>...</td>\n",
       "      <td>...</td>\n",
       "      <td>...</td>\n",
       "      <td>...</td>\n",
       "      <td>...</td>\n",
       "    </tr>\n",
       "    <tr>\n",
       "      <th>129995</th>\n",
       "      <td>153</td>\n",
       "      <td>0</td>\n",
       "      <td>2.80</td>\n",
       "      <td>3</td>\n",
       "      <td>1.0</td>\n",
       "      <td>0</td>\n",
       "    </tr>\n",
       "    <tr>\n",
       "      <th>129996</th>\n",
       "      <td>2107</td>\n",
       "      <td>0</td>\n",
       "      <td>0.00</td>\n",
       "      <td>3</td>\n",
       "      <td>1.0</td>\n",
       "      <td>3</td>\n",
       "    </tr>\n",
       "    <tr>\n",
       "      <th>129997</th>\n",
       "      <td>6</td>\n",
       "      <td>0</td>\n",
       "      <td>0.00</td>\n",
       "      <td>3</td>\n",
       "      <td>1.0</td>\n",
       "      <td>0</td>\n",
       "    </tr>\n",
       "    <tr>\n",
       "      <th>129998</th>\n",
       "      <td>4454</td>\n",
       "      <td>0</td>\n",
       "      <td>4.16</td>\n",
       "      <td>3</td>\n",
       "      <td>1.0</td>\n",
       "      <td>0</td>\n",
       "    </tr>\n",
       "    <tr>\n",
       "      <th>129999</th>\n",
       "      <td>20</td>\n",
       "      <td>0</td>\n",
       "      <td>2.21</td>\n",
       "      <td>3</td>\n",
       "      <td>1.0</td>\n",
       "      <td>0</td>\n",
       "    </tr>\n",
       "  </tbody>\n",
       "</table>\n",
       "<p>130000 rows × 6 columns</p>\n",
       "</div>"
      ],
      "text/plain": [
       "        playtime_forever  playtime_2weeks  rating  communityvisibilitystate  \\\n",
       "0                     57                0    0.00                         3   \n",
       "1                    210                0    0.00                         3   \n",
       "2                    861                0    3.45                         3   \n",
       "3                  16774                0    3.29                         3   \n",
       "4                    198                0    3.50                         3   \n",
       "...                  ...              ...     ...                       ...   \n",
       "129995               153                0    2.80                         3   \n",
       "129996              2107                0    0.00                         3   \n",
       "129997                 6                0    0.00                         3   \n",
       "129998              4454                0    4.16                         3   \n",
       "129999                20                0    2.21                         3   \n",
       "\n",
       "        profilestate  personastate  \n",
       "0                1.0             0  \n",
       "1                1.0             1  \n",
       "2                1.0             0  \n",
       "3                1.0             3  \n",
       "4                1.0             0  \n",
       "...              ...           ...  \n",
       "129995           1.0             0  \n",
       "129996           1.0             3  \n",
       "129997           1.0             0  \n",
       "129998           1.0             0  \n",
       "129999           1.0             0  \n",
       "\n",
       "[130000 rows x 6 columns]"
      ]
     },
     "execution_count": 7,
     "metadata": {},
     "output_type": "execute_result"
    }
   ],
   "source": [
    "data_train"
   ]
  },
  {
   "cell_type": "code",
   "execution_count": 8,
   "id": "7bb8e551",
   "metadata": {
    "execution": {
     "iopub.execute_input": "2023-05-26T17:39:28.577273Z",
     "iopub.status.busy": "2023-05-26T17:39:28.576317Z",
     "iopub.status.idle": "2023-05-26T17:39:28.584279Z",
     "shell.execute_reply": "2023-05-26T17:39:28.583462Z"
    },
    "papermill": {
     "duration": 0.02054,
     "end_time": "2023-05-26T17:39:28.586533",
     "exception": false,
     "start_time": "2023-05-26T17:39:28.565993",
     "status": "completed"
    },
    "tags": []
   },
   "outputs": [],
   "source": [
    "X_train = data_train.drop(['playtime_forever'], axis=1)\n",
    "y_train = data_train.playtime_forever"
   ]
  },
  {
   "cell_type": "code",
   "execution_count": 9,
   "id": "d729404e",
   "metadata": {
    "execution": {
     "iopub.execute_input": "2023-05-26T17:39:28.606546Z",
     "iopub.status.busy": "2023-05-26T17:39:28.606092Z",
     "iopub.status.idle": "2023-05-26T17:39:28.998033Z",
     "shell.execute_reply": "2023-05-26T17:39:28.996883Z"
    },
    "papermill": {
     "duration": 0.405086,
     "end_time": "2023-05-26T17:39:29.000728",
     "exception": false,
     "start_time": "2023-05-26T17:39:28.595642",
     "status": "completed"
    },
    "tags": []
   },
   "outputs": [],
   "source": [
    "from sklearn.ensemble import GradientBoostingRegressor\n",
    "from sklearn.model_selection import GridSearchCV"
   ]
  },
  {
   "cell_type": "code",
   "execution_count": 10,
   "id": "a1699376",
   "metadata": {
    "execution": {
     "iopub.execute_input": "2023-05-26T17:39:29.021286Z",
     "iopub.status.busy": "2023-05-26T17:39:29.020903Z",
     "iopub.status.idle": "2023-05-26T17:39:29.027939Z",
     "shell.execute_reply": "2023-05-26T17:39:29.027085Z"
    },
    "papermill": {
     "duration": 0.019642,
     "end_time": "2023-05-26T17:39:29.030174",
     "exception": false,
     "start_time": "2023-05-26T17:39:29.010532",
     "status": "completed"
    },
    "tags": []
   },
   "outputs": [],
   "source": [
    "y_train = np.log(y_train + 1)"
   ]
  },
  {
   "cell_type": "code",
   "execution_count": 11,
   "id": "ca25427e",
   "metadata": {
    "execution": {
     "iopub.execute_input": "2023-05-26T17:39:29.050993Z",
     "iopub.status.busy": "2023-05-26T17:39:29.049697Z",
     "iopub.status.idle": "2023-05-26T17:39:29.055195Z",
     "shell.execute_reply": "2023-05-26T17:39:29.054439Z"
    },
    "papermill": {
     "duration": 0.01817,
     "end_time": "2023-05-26T17:39:29.057431",
     "exception": false,
     "start_time": "2023-05-26T17:39:29.039261",
     "status": "completed"
    },
    "tags": []
   },
   "outputs": [],
   "source": [
    "model = GradientBoostingRegressor(n_estimators=2000, max_depth=10)"
   ]
  },
  {
   "cell_type": "code",
   "execution_count": 12,
   "id": "f2c76138",
   "metadata": {
    "execution": {
     "iopub.execute_input": "2023-05-26T17:39:29.078358Z",
     "iopub.status.busy": "2023-05-26T17:39:29.076952Z",
     "iopub.status.idle": "2023-05-26T17:39:29.089829Z",
     "shell.execute_reply": "2023-05-26T17:39:29.088366Z"
    },
    "papermill": {
     "duration": 0.026203,
     "end_time": "2023-05-26T17:39:29.092731",
     "exception": false,
     "start_time": "2023-05-26T17:39:29.066528",
     "status": "completed"
    },
    "tags": []
   },
   "outputs": [],
   "source": [
    "X_train.fillna(0, inplace=True)\n"
   ]
  },
  {
   "cell_type": "code",
   "execution_count": 13,
   "id": "a9f1b0eb",
   "metadata": {
    "execution": {
     "iopub.execute_input": "2023-05-26T17:39:29.113471Z",
     "iopub.status.busy": "2023-05-26T17:39:29.112307Z",
     "iopub.status.idle": "2023-05-26T17:42:49.665569Z",
     "shell.execute_reply": "2023-05-26T17:42:49.664350Z"
    },
    "papermill": {
     "duration": 200.574969,
     "end_time": "2023-05-26T17:42:49.676820",
     "exception": false,
     "start_time": "2023-05-26T17:39:29.101851",
     "status": "completed"
    },
    "tags": []
   },
   "outputs": [
    {
     "data": {
      "text/html": [
       "<style>#sk-container-id-1 {color: black;background-color: white;}#sk-container-id-1 pre{padding: 0;}#sk-container-id-1 div.sk-toggleable {background-color: white;}#sk-container-id-1 label.sk-toggleable__label {cursor: pointer;display: block;width: 100%;margin-bottom: 0;padding: 0.3em;box-sizing: border-box;text-align: center;}#sk-container-id-1 label.sk-toggleable__label-arrow:before {content: \"▸\";float: left;margin-right: 0.25em;color: #696969;}#sk-container-id-1 label.sk-toggleable__label-arrow:hover:before {color: black;}#sk-container-id-1 div.sk-estimator:hover label.sk-toggleable__label-arrow:before {color: black;}#sk-container-id-1 div.sk-toggleable__content {max-height: 0;max-width: 0;overflow: hidden;text-align: left;background-color: #f0f8ff;}#sk-container-id-1 div.sk-toggleable__content pre {margin: 0.2em;color: black;border-radius: 0.25em;background-color: #f0f8ff;}#sk-container-id-1 input.sk-toggleable__control:checked~div.sk-toggleable__content {max-height: 200px;max-width: 100%;overflow: auto;}#sk-container-id-1 input.sk-toggleable__control:checked~label.sk-toggleable__label-arrow:before {content: \"▾\";}#sk-container-id-1 div.sk-estimator input.sk-toggleable__control:checked~label.sk-toggleable__label {background-color: #d4ebff;}#sk-container-id-1 div.sk-label input.sk-toggleable__control:checked~label.sk-toggleable__label {background-color: #d4ebff;}#sk-container-id-1 input.sk-hidden--visually {border: 0;clip: rect(1px 1px 1px 1px);clip: rect(1px, 1px, 1px, 1px);height: 1px;margin: -1px;overflow: hidden;padding: 0;position: absolute;width: 1px;}#sk-container-id-1 div.sk-estimator {font-family: monospace;background-color: #f0f8ff;border: 1px dotted black;border-radius: 0.25em;box-sizing: border-box;margin-bottom: 0.5em;}#sk-container-id-1 div.sk-estimator:hover {background-color: #d4ebff;}#sk-container-id-1 div.sk-parallel-item::after {content: \"\";width: 100%;border-bottom: 1px solid gray;flex-grow: 1;}#sk-container-id-1 div.sk-label:hover label.sk-toggleable__label {background-color: #d4ebff;}#sk-container-id-1 div.sk-serial::before {content: \"\";position: absolute;border-left: 1px solid gray;box-sizing: border-box;top: 0;bottom: 0;left: 50%;z-index: 0;}#sk-container-id-1 div.sk-serial {display: flex;flex-direction: column;align-items: center;background-color: white;padding-right: 0.2em;padding-left: 0.2em;position: relative;}#sk-container-id-1 div.sk-item {position: relative;z-index: 1;}#sk-container-id-1 div.sk-parallel {display: flex;align-items: stretch;justify-content: center;background-color: white;position: relative;}#sk-container-id-1 div.sk-item::before, #sk-container-id-1 div.sk-parallel-item::before {content: \"\";position: absolute;border-left: 1px solid gray;box-sizing: border-box;top: 0;bottom: 0;left: 50%;z-index: -1;}#sk-container-id-1 div.sk-parallel-item {display: flex;flex-direction: column;z-index: 1;position: relative;background-color: white;}#sk-container-id-1 div.sk-parallel-item:first-child::after {align-self: flex-end;width: 50%;}#sk-container-id-1 div.sk-parallel-item:last-child::after {align-self: flex-start;width: 50%;}#sk-container-id-1 div.sk-parallel-item:only-child::after {width: 0;}#sk-container-id-1 div.sk-dashed-wrapped {border: 1px dashed gray;margin: 0 0.4em 0.5em 0.4em;box-sizing: border-box;padding-bottom: 0.4em;background-color: white;}#sk-container-id-1 div.sk-label label {font-family: monospace;font-weight: bold;display: inline-block;line-height: 1.2em;}#sk-container-id-1 div.sk-label-container {text-align: center;}#sk-container-id-1 div.sk-container {/* jupyter's `normalize.less` sets `[hidden] { display: none; }` but bootstrap.min.css set `[hidden] { display: none !important; }` so we also need the `!important` here to be able to override the default hidden behavior on the sphinx rendered scikit-learn.org. See: https://github.com/scikit-learn/scikit-learn/issues/21755 */display: inline-block !important;position: relative;}#sk-container-id-1 div.sk-text-repr-fallback {display: none;}</style><div id=\"sk-container-id-1\" class=\"sk-top-container\"><div class=\"sk-text-repr-fallback\"><pre>GradientBoostingRegressor(max_depth=10, n_estimators=2000)</pre><b>In a Jupyter environment, please rerun this cell to show the HTML representation or trust the notebook. <br />On GitHub, the HTML representation is unable to render, please try loading this page with nbviewer.org.</b></div><div class=\"sk-container\" hidden><div class=\"sk-item\"><div class=\"sk-estimator sk-toggleable\"><input class=\"sk-toggleable__control sk-hidden--visually\" id=\"sk-estimator-id-1\" type=\"checkbox\" checked><label for=\"sk-estimator-id-1\" class=\"sk-toggleable__label sk-toggleable__label-arrow\">GradientBoostingRegressor</label><div class=\"sk-toggleable__content\"><pre>GradientBoostingRegressor(max_depth=10, n_estimators=2000)</pre></div></div></div></div></div>"
      ],
      "text/plain": [
       "GradientBoostingRegressor(max_depth=10, n_estimators=2000)"
      ]
     },
     "execution_count": 13,
     "metadata": {},
     "output_type": "execute_result"
    }
   ],
   "source": [
    "model.fit(X_train, y_train)"
   ]
  },
  {
   "cell_type": "code",
   "execution_count": 14,
   "id": "a9757751",
   "metadata": {
    "execution": {
     "iopub.execute_input": "2023-05-26T17:42:49.697910Z",
     "iopub.status.busy": "2023-05-26T17:42:49.697482Z",
     "iopub.status.idle": "2023-05-26T17:42:56.389736Z",
     "shell.execute_reply": "2023-05-26T17:42:56.388577Z"
    },
    "papermill": {
     "duration": 6.706311,
     "end_time": "2023-05-26T17:42:56.392494",
     "exception": false,
     "start_time": "2023-05-26T17:42:49.686183",
     "status": "completed"
    },
    "tags": []
   },
   "outputs": [],
   "source": [
    "y_pred = model.predict(X_train)"
   ]
  },
  {
   "cell_type": "code",
   "execution_count": 15,
   "id": "d9025f2e",
   "metadata": {
    "execution": {
     "iopub.execute_input": "2023-05-26T17:42:56.413571Z",
     "iopub.status.busy": "2023-05-26T17:42:56.413157Z",
     "iopub.status.idle": "2023-05-26T17:42:56.418276Z",
     "shell.execute_reply": "2023-05-26T17:42:56.417195Z"
    },
    "papermill": {
     "duration": 0.01836,
     "end_time": "2023-05-26T17:42:56.420500",
     "exception": false,
     "start_time": "2023-05-26T17:42:56.402140",
     "status": "completed"
    },
    "tags": []
   },
   "outputs": [],
   "source": [
    "y_pred[y_pred < 0] = 0"
   ]
  },
  {
   "cell_type": "code",
   "execution_count": 16,
   "id": "e1a39621",
   "metadata": {
    "execution": {
     "iopub.execute_input": "2023-05-26T17:42:56.441537Z",
     "iopub.status.busy": "2023-05-26T17:42:56.441114Z",
     "iopub.status.idle": "2023-05-26T17:42:56.459685Z",
     "shell.execute_reply": "2023-05-26T17:42:56.458406Z"
    },
    "papermill": {
     "duration": 0.032338,
     "end_time": "2023-05-26T17:42:56.462339",
     "exception": false,
     "start_time": "2023-05-26T17:42:56.430001",
     "status": "completed"
    },
    "tags": []
   },
   "outputs": [
    {
     "data": {
      "text/plain": [
       "2.2616254027670073"
      ]
     },
     "execution_count": 16,
     "metadata": {},
     "output_type": "execute_result"
    }
   ],
   "source": [
    "np.sqrt(mean_squared_log_error(np.exp(y_train) - 1, np.exp(y_pred) - 1))"
   ]
  },
  {
   "cell_type": "code",
   "execution_count": 17,
   "id": "d71d6661",
   "metadata": {
    "execution": {
     "iopub.execute_input": "2023-05-26T17:42:56.483583Z",
     "iopub.status.busy": "2023-05-26T17:42:56.483160Z",
     "iopub.status.idle": "2023-05-26T17:42:56.571551Z",
     "shell.execute_reply": "2023-05-26T17:42:56.570463Z"
    },
    "papermill": {
     "duration": 0.102609,
     "end_time": "2023-05-26T17:42:56.574520",
     "exception": false,
     "start_time": "2023-05-26T17:42:56.471911",
     "status": "completed"
    },
    "tags": []
   },
   "outputs": [],
   "source": [
    "data_test = pd.read_csv(PATH_TO_KAGGLE_TEST)"
   ]
  },
  {
   "cell_type": "code",
   "execution_count": 18,
   "id": "471b06b5",
   "metadata": {
    "execution": {
     "iopub.execute_input": "2023-05-26T17:42:56.595830Z",
     "iopub.status.busy": "2023-05-26T17:42:56.595380Z",
     "iopub.status.idle": "2023-05-26T17:42:56.672089Z",
     "shell.execute_reply": "2023-05-26T17:42:56.670508Z"
    },
    "papermill": {
     "duration": 0.090913,
     "end_time": "2023-05-26T17:42:56.675025",
     "exception": false,
     "start_time": "2023-05-26T17:42:56.584112",
     "status": "completed"
    },
    "tags": []
   },
   "outputs": [],
   "source": [
    "data_test = data_test.merge(details, on='game_id', how='left').merge(users, on='user_id', how='left')"
   ]
  },
  {
   "cell_type": "code",
   "execution_count": 19,
   "id": "0df6f980",
   "metadata": {
    "execution": {
     "iopub.execute_input": "2023-05-26T17:42:56.697068Z",
     "iopub.status.busy": "2023-05-26T17:42:56.696656Z",
     "iopub.status.idle": "2023-05-26T17:42:56.708348Z",
     "shell.execute_reply": "2023-05-26T17:42:56.707045Z"
    },
    "papermill": {
     "duration": 0.026658,
     "end_time": "2023-05-26T17:42:56.711909",
     "exception": false,
     "start_time": "2023-05-26T17:42:56.685251",
     "status": "completed"
    },
    "tags": []
   },
   "outputs": [],
   "source": [
    "data_test.drop(['user_id', 'game_name', 'genres', 'tags', 'release_date', 'Unnamed: 0_x', 'Unnamed: 0_y', 'timecreated', 'game_id', 'index'], axis=1, inplace=True)"
   ]
  },
  {
   "cell_type": "code",
   "execution_count": 20,
   "id": "9dde9f49",
   "metadata": {
    "execution": {
     "iopub.execute_input": "2023-05-26T17:42:56.733733Z",
     "iopub.status.busy": "2023-05-26T17:42:56.733299Z",
     "iopub.status.idle": "2023-05-26T17:42:56.749855Z",
     "shell.execute_reply": "2023-05-26T17:42:56.748180Z"
    },
    "papermill": {
     "duration": 0.032137,
     "end_time": "2023-05-26T17:42:56.753938",
     "exception": false,
     "start_time": "2023-05-26T17:42:56.721801",
     "status": "completed"
    },
    "tags": []
   },
   "outputs": [
    {
     "data": {
      "text/html": [
       "<div>\n",
       "<style scoped>\n",
       "    .dataframe tbody tr th:only-of-type {\n",
       "        vertical-align: middle;\n",
       "    }\n",
       "\n",
       "    .dataframe tbody tr th {\n",
       "        vertical-align: top;\n",
       "    }\n",
       "\n",
       "    .dataframe thead th {\n",
       "        text-align: right;\n",
       "    }\n",
       "</style>\n",
       "<table border=\"1\" class=\"dataframe\">\n",
       "  <thead>\n",
       "    <tr style=\"text-align: right;\">\n",
       "      <th></th>\n",
       "      <th>playtime_2weeks</th>\n",
       "      <th>rating</th>\n",
       "      <th>communityvisibilitystate</th>\n",
       "      <th>profilestate</th>\n",
       "      <th>personastate</th>\n",
       "    </tr>\n",
       "  </thead>\n",
       "  <tbody>\n",
       "    <tr>\n",
       "      <th>0</th>\n",
       "      <td>0</td>\n",
       "      <td>0.00</td>\n",
       "      <td>3</td>\n",
       "      <td>1.0</td>\n",
       "      <td>0</td>\n",
       "    </tr>\n",
       "    <tr>\n",
       "      <th>1</th>\n",
       "      <td>1074</td>\n",
       "      <td>3.83</td>\n",
       "      <td>3</td>\n",
       "      <td>1.0</td>\n",
       "      <td>1</td>\n",
       "    </tr>\n",
       "    <tr>\n",
       "      <th>2</th>\n",
       "      <td>0</td>\n",
       "      <td>3.70</td>\n",
       "      <td>3</td>\n",
       "      <td>1.0</td>\n",
       "      <td>0</td>\n",
       "    </tr>\n",
       "    <tr>\n",
       "      <th>3</th>\n",
       "      <td>0</td>\n",
       "      <td>3.74</td>\n",
       "      <td>3</td>\n",
       "      <td>1.0</td>\n",
       "      <td>0</td>\n",
       "    </tr>\n",
       "    <tr>\n",
       "      <th>4</th>\n",
       "      <td>0</td>\n",
       "      <td>0.00</td>\n",
       "      <td>3</td>\n",
       "      <td>1.0</td>\n",
       "      <td>0</td>\n",
       "    </tr>\n",
       "  </tbody>\n",
       "</table>\n",
       "</div>"
      ],
      "text/plain": [
       "   playtime_2weeks  rating  communityvisibilitystate  profilestate  \\\n",
       "0                0    0.00                         3           1.0   \n",
       "1             1074    3.83                         3           1.0   \n",
       "2                0    3.70                         3           1.0   \n",
       "3                0    3.74                         3           1.0   \n",
       "4                0    0.00                         3           1.0   \n",
       "\n",
       "   personastate  \n",
       "0             0  \n",
       "1             1  \n",
       "2             0  \n",
       "3             0  \n",
       "4             0  "
      ]
     },
     "execution_count": 20,
     "metadata": {},
     "output_type": "execute_result"
    }
   ],
   "source": [
    "data_test.head()"
   ]
  },
  {
   "cell_type": "code",
   "execution_count": 21,
   "id": "cc1150ce",
   "metadata": {
    "execution": {
     "iopub.execute_input": "2023-05-26T17:42:56.779166Z",
     "iopub.status.busy": "2023-05-26T17:42:56.778727Z",
     "iopub.status.idle": "2023-05-26T17:42:56.788166Z",
     "shell.execute_reply": "2023-05-26T17:42:56.786982Z"
    },
    "papermill": {
     "duration": 0.025496,
     "end_time": "2023-05-26T17:42:56.790977",
     "exception": false,
     "start_time": "2023-05-26T17:42:56.765481",
     "status": "completed"
    },
    "tags": []
   },
   "outputs": [],
   "source": [
    "X_test = data_test\n",
    "X_test.fillna(0, inplace=True)\n"
   ]
  },
  {
   "cell_type": "code",
   "execution_count": 22,
   "id": "4ee0cf82",
   "metadata": {
    "execution": {
     "iopub.execute_input": "2023-05-26T17:42:56.812765Z",
     "iopub.status.busy": "2023-05-26T17:42:56.812356Z",
     "iopub.status.idle": "2023-05-26T17:43:00.008734Z",
     "shell.execute_reply": "2023-05-26T17:43:00.007543Z"
    },
    "papermill": {
     "duration": 3.210458,
     "end_time": "2023-05-26T17:43:00.011413",
     "exception": false,
     "start_time": "2023-05-26T17:42:56.800955",
     "status": "completed"
    },
    "tags": []
   },
   "outputs": [],
   "source": [
    "y_pred = model.predict(X_test)\n",
    "y_pred[y_pred < 0] = 0\n",
    "y_pred = np.exp(y_pred) - 1"
   ]
  },
  {
   "cell_type": "code",
   "execution_count": 23,
   "id": "4d4de05a",
   "metadata": {
    "execution": {
     "iopub.execute_input": "2023-05-26T17:43:00.033002Z",
     "iopub.status.busy": "2023-05-26T17:43:00.032601Z",
     "iopub.status.idle": "2023-05-26T17:43:00.038917Z",
     "shell.execute_reply": "2023-05-26T17:43:00.037607Z"
    },
    "papermill": {
     "duration": 0.020141,
     "end_time": "2023-05-26T17:43:00.041375",
     "exception": false,
     "start_time": "2023-05-26T17:43:00.021234",
     "status": "completed"
    },
    "tags": []
   },
   "outputs": [],
   "source": [
    "\n",
    "submission = pd.DataFrame({\"index\": test[\"index\"], \n",
    "                           \"playtime_forever\": y_pred})"
   ]
  },
  {
   "cell_type": "code",
   "execution_count": 24,
   "id": "e59dd3c5",
   "metadata": {
    "execution": {
     "iopub.execute_input": "2023-05-26T17:43:00.063086Z",
     "iopub.status.busy": "2023-05-26T17:43:00.062671Z",
     "iopub.status.idle": "2023-05-26T17:43:00.321953Z",
     "shell.execute_reply": "2023-05-26T17:43:00.320831Z"
    },
    "papermill": {
     "duration": 0.273502,
     "end_time": "2023-05-26T17:43:00.324723",
     "exception": false,
     "start_time": "2023-05-26T17:43:00.051221",
     "status": "completed"
    },
    "tags": []
   },
   "outputs": [],
   "source": [
    "submission.to_csv(PATH_TO_KAGGLE_SUBMISSION, index=False)\n"
   ]
  }
 ],
 "metadata": {
  "kernelspec": {
   "display_name": "Python 3",
   "language": "python",
   "name": "python3"
  },
  "language_info": {
   "codemirror_mode": {
    "name": "ipython",
    "version": 3
   },
   "file_extension": ".py",
   "mimetype": "text/x-python",
   "name": "python",
   "nbconvert_exporter": "python",
   "pygments_lexer": "ipython3",
   "version": "3.10.10"
  },
  "papermill": {
   "default_parameters": {},
   "duration": 227.97277,
   "end_time": "2023-05-26T17:43:01.359671",
   "environment_variables": {},
   "exception": null,
   "input_path": "__notebook__.ipynb",
   "output_path": "__notebook__.ipynb",
   "parameters": {},
   "start_time": "2023-05-26T17:39:13.386901",
   "version": "2.4.0"
  }
 },
 "nbformat": 4,
 "nbformat_minor": 5
}
